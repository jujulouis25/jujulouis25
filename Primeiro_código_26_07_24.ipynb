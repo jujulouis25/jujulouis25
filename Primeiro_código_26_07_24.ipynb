{
  "nbformat": 4,
  "nbformat_minor": 0,
  "metadata": {
    "colab": {
      "provenance": [],
      "authorship_tag": "ABX9TyMrsuHsEhYc5DvQzUBUOjB+",
      "include_colab_link": true
    },
    "kernelspec": {
      "name": "python3",
      "display_name": "Python 3"
    },
    "language_info": {
      "name": "python"
    }
  },
  "cells": [
    {
      "cell_type": "markdown",
      "metadata": {
        "id": "view-in-github",
        "colab_type": "text"
      },
      "source": [
        "<a href=\"https://colab.research.google.com/github/jujulouis25/jujulouis25/blob/main/Primeiro_c%C3%B3digo_26_07_24.ipynb\" target=\"_parent\"><img src=\"https://colab.research.google.com/assets/colab-badge.svg\" alt=\"Open In Colab\"/></a>"
      ]
    },
    {
      "cell_type": "code",
      "execution_count": 1,
      "metadata": {
        "colab": {
          "base_uri": "https://localhost:8080/"
        },
        "id": "zoE-0zpP6-XV",
        "outputId": "1113c21f-7ca7-413f-9581-e334bb592515"
      },
      "outputs": [
        {
          "output_type": "stream",
          "name": "stdout",
          "text": [
            " .--.\n",
            "| oo |\n",
            "| ~~ |\n",
            "|/\\/\\|\n",
            "\"    \"\n"
          ]
        }
      ],
      "source": [
        "print (\" .--.\")\n",
        "print (\"| oo |\")\n",
        "print (\"| ~~ |\")\n",
        "print (\"|/\\/\\|\")\n",
        "print (\"\\\"    \\\"\")"
      ]
    },
    {
      "cell_type": "code",
      "source": [
        "print (\"+------------------------+\")\n",
        "print (\"| Meu programa em Python |\")\n",
        "print (\"+------------------------+\")"
      ],
      "metadata": {
        "colab": {
          "base_uri": "https://localhost:8080/"
        },
        "id": "_AUSRCou9wD0",
        "outputId": "5e374634-87d0-4354-f879-16ebcccc078d"
      },
      "execution_count": 3,
      "outputs": [
        {
          "output_type": "stream",
          "name": "stdout",
          "text": [
            "+------------------------+\n",
            "| Meu programa em Python |\n",
            "+------------------------+\n"
          ]
        }
      ]
    }
  ]
}